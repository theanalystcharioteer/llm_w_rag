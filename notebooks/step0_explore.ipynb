{
 "cells": [
  {
   "cell_type": "code",
   "execution_count": 1,
   "metadata": {},
   "outputs": [],
   "source": [
    "from IPython.core.interactiveshell import InteractiveShell\n",
    "InteractiveShell.ast_node_interactivity = \"all\""
   ]
  },
  {
   "cell_type": "code",
   "execution_count": 2,
   "metadata": {},
   "outputs": [],
   "source": [
    "path_dir = '/Users/pinaki/Library/CloudStorage/OneDrive-Personal/Documents/Analytics_Projects/POCs_Python/Llm_w_rag_poc/llm_w_rag_poc/'\n",
    "path_models = path_dir + 'models/'\n",
    "path_data = path_dir + 'data/'"
   ]
  },
  {
   "cell_type": "markdown",
   "metadata": {},
   "source": [
    "# Objective: \n",
    "An app that answers queries based on documents we have provided.\n",
    "\n",
    "# Constraints:\n",
    "1. LLM model: _**offline**_ \n",
    "2. Framework: _**langchain**_ | _**llamaindex**_\n",
    "3. RAG:\n",
    "    - Vector DB: _**FAISS**_ | _**cromadb**_\n",
    "4. Frontend: _**streamlit**_\n"
   ]
  },
  {
   "cell_type": "markdown",
   "metadata": {},
   "source": [
    "# Steps to carry out\n",
    "1. Download an **instruction** LLM model (<=7B parameter) for offline use\n",
    "    Test the model by asking few general questions\n",
    "2. Build a simple langchain based framework\n",
    "    Test asking a few specific questions on the topic of interest\n",
    "3. Build a simple RAG based framework\n",
    "    Test asking a few specific questions on the topic of interest\n",
    "4. Build a simple streamlit app\n",
    "    - Lets the user upload few documents for reference (optional)\n",
    "    - Allows users to input questions\n",
    "    - Outputs the answers based on the reference documents\n",
    "    - Lets the user give a feedback on the quality of the answer\n",
    "5. Store user question, generated answer, and user feedback in DB"
   ]
  },
  {
   "cell_type": "markdown",
   "metadata": {},
   "source": [
    "# Code starts here"
   ]
  },
  {
   "cell_type": "markdown",
   "metadata": {},
   "source": [
    "## Loading packages"
   ]
  },
  {
   "cell_type": "code",
   "execution_count": 3,
   "metadata": {},
   "outputs": [],
   "source": [
    "from langchain import document_loaders as dl\n",
    "from langchain import embeddings\n",
    "from langchain import text_splitter as ts\n",
    "from langchain import vectorstores as vs\n",
    "from langchain.llms import HuggingFacePipeline\n",
    "from langchain.embeddings import HuggingFaceEmbeddings\n",
    "from langchain.schema import StrOutputParser\n",
    "from langchain.schema.runnable import RunnablePassthrough\n",
    "from langchain.schema.runnable import RunnableParallel\n",
    "from langchain.prompts import PromptTemplate\n",
    "from operator import itemgetter\n",
    "#Torch + transformers\n",
    "import torch\n",
    "from transformers import pipeline\n",
    "from transformers import AutoTokenizer, AutoModelForCausalLM\n",
    "#Other useful modules\n",
    "import re\n",
    "import time"
   ]
  },
  {
   "cell_type": "markdown",
   "metadata": {},
   "source": [
    "## Load document and chunk it"
   ]
  },
  {
   "cell_type": "code",
   "execution_count": 4,
   "metadata": {},
   "outputs": [
    {
     "name": "stdout",
     "output_type": "stream",
     "text": [
      "1 :  page_content='1 \\n  \\n \\nAn Introduction to Philosophy  \\n \\n \\n \\n \\n \\nW. Russ Payne  PhD \\nBellevue College  \\n \\n \\n \\n \\n \\n \\n \\n \\n \\n \\n \\n \\n \\n \\n \\n \\n \\n \\n \\n \\n \\n \\n \\n \\n \\n \\nCopyright (c c by nc 4.0 )  \\n2023 W. Russ Payne  \\nPermission is granted to copy, distribute and/or modify this document  with attribution  under the \\nterms of Creative Commons: Attribution Noncommercial  4.0 International or any later version of \\nthis license. A copy of the license is found at http://creativecommons.org/licenses/by -nc/4.0/' metadata={'source': '/Users/pinaki/Library/CloudStorage/OneDrive-Personal/Documents/Analytics_Projects/POCs_Python/Llm_w_rag_poc/llm_w_rag_poc/data/raw/An-Introduction-to-Philosophy.pdf', 'page': 0}\n",
      "11 :  page_content='4 \\n If the flourishing of philosophy over the pas t century or so is to continue , philosophy as a living \\ndiscipline will have to gain a broader following among the general educated public. The front \\nline for this campaign is the Philosophy 101 classroom.   \\nThis is an open source t ext. It is freely available in an editable, downloadable electronic format. \\nAnyone is free to obtain, distribute, edit , or revise this document in accordance with the open' metadata={'source': '/Users/pinaki/Library/CloudStorage/OneDrive-Personal/Documents/Analytics_Projects/POCs_Python/Llm_w_rag_poc/llm_w_rag_poc/data/raw/An-Introduction-to-Philosophy.pdf', 'page': 3}\n",
      "21 :  page_content='Since the 19th century many philosophers and scientists have been understandably suspicious of \\nmetaphysics , and it has frequently been dismissed as a waste of time, or worse, as meaningles s. \\nBut in just the past few decades metaphysics has returned to vitality. As difficult as they are to \\nresolve, metaphysical issues are also difficul t to ignore for long. C ontemporary analytic' metadata={'source': '/Users/pinaki/Library/CloudStorage/OneDrive-Personal/Documents/Analytics_Projects/POCs_Python/Llm_w_rag_poc/llm_w_rag_poc/data/raw/An-Introduction-to-Philosophy.pdf', 'page': 4}\n",
      "31 :  page_content='do?” questions. Many interesting lines of inquiry cut across these three kinds of questions. The \\nphilosophy of science, for instance, is concerned with metaphysical issues about what science is, \\nbut also with epistemological questi ons about how we can know scientific truths. The philosophy \\nof love is similarly concerned with metaphysical questions about what love is. But it also \\nconcerned with questions about the value of love that are more ethical in character.' metadata={'source': '/Users/pinaki/Library/CloudStorage/OneDrive-Personal/Documents/Analytics_Projects/POCs_Python/Llm_w_rag_poc/llm_w_rag_poc/data/raw/An-Introduction-to-Philosophy.pdf', 'page': 6}\n",
      "41 :  page_content='The primary va lue of philosophy according to  Russell is that it loosens the grip of uncritically \\nheld opinion and opens the mind to a liberating range of new possibilities to explore.  \\nThe value of philosophy is, in fact, to be sought largely in its very uncertainty. . . \\nPhilosophy, though unable to tell us with certainty what is the true answer to the doubts \\nwhich it raises, is able to suggest many possibilities which enlarge our though ts and free' metadata={'source': '/Users/pinaki/Library/CloudStorage/OneDrive-Personal/Documents/Analytics_Projects/POCs_Python/Llm_w_rag_poc/llm_w_rag_poc/data/raw/An-Introduction-to-Philosophy.pdf', 'page': 7}\n",
      "51 :  page_content='10 \\n when to take the quiz.  The following questions will help you p repare.  Feel free to take these \\nquestions up on the di scussion board . \\nOn this Chapter : \\n• Why should we doubt that science covers all of human inquiry?  \\n• What are some metaphysical issues? Some epistemological and ethical issues?  \\n• What problem does the view that moralit y is simply a matter of the say -so of some \\nauthority lead to?  \\nOn Russell ’s “The Value of Philosophy”:' metadata={'source': '/Users/pinaki/Library/CloudStorage/OneDrive-Personal/Documents/Analytics_Projects/POCs_Python/Llm_w_rag_poc/llm_w_rag_poc/data/raw/An-Introduction-to-Philosophy.pdf', 'page': 9}\n",
      "61 :  page_content='12 \\n exists in the subjective realm , my belief is also is about the objective realm and it can accurately \\nrepresent an aspect of the objective world.  In which case my belief is true.  Or it can fai l to, say, if \\nmy son has finished the chocolate ice cream.  In this case my belief is false.  \\nSo, your beliefs, are aspects of you, a subject, but the y aim at representing things that are going \\non in our shared reality, the objective realm. For your beli ef to be true is just for your' metadata={'source': '/Users/pinaki/Library/CloudStorage/OneDrive-Personal/Documents/Analytics_Projects/POCs_Python/Llm_w_rag_poc/llm_w_rag_poc/data/raw/An-Introduction-to-Philosophy.pdf', 'page': 11}\n",
      "71 :  page_content='It’s important to keep these two questions separate. Questions about how we know whether \\nsomething is true are epistemic questions. These questions are concerned with how our m inds \\nrelate to the world. But the question of what it is for something to be true is not an epistemic \\nissue. The truth of a claim is quite independent of how or whether we know it to be true. There \\nare many truths we don’t know and some of the things we th ink we kno w just aren’t true. If you' metadata={'source': '/Users/pinaki/Library/CloudStorage/OneDrive-Personal/Documents/Analytics_Projects/POCs_Python/Llm_w_rag_poc/llm_w_rag_poc/data/raw/An-Introduction-to-Philosophy.pdf', 'page': 12}\n",
      "81 :  page_content='15 \\n or another. But thinking based on stereotypes is highly unreliable and perhaps we are in a \\nposition now to see how thinking in terms of ster eotypes misleads many of us concerning these \\nbasic  concepts . To be reasonable literally means to be amenable to good reasons (this especially \\nincludes the good reasons of others who think differently). To be a reasonable or rational \\nbeliever involves  a good measure of int ellectual humility  and a constant awareness of how easy' metadata={'source': '/Users/pinaki/Library/CloudStorage/OneDrive-Personal/Documents/Analytics_Projects/POCs_Python/Llm_w_rag_poc/llm_w_rag_poc/data/raw/An-Introduction-to-Philosophy.pdf', 'page': 14}\n",
      "91 :  page_content='suppor t of or against that position. In order to get at the best reasons, it is vital that our \\ncommunity of inquirers include people with diverse perspectives and diverse ways of thinking. \\nOtherwise , we are liable to  miss important evidence,  overlook good reason s, or fail to catch our \\nown mistakes.  A community of like -minded pe ople will tend to share the same blind spots , and \\nas a res ult, ignore illuminating alternative perspectives , and neglect the error checking these can' metadata={'source': '/Users/pinaki/Library/CloudStorage/OneDrive-Personal/Documents/Analytics_Projects/POCs_Python/Llm_w_rag_poc/llm_w_rag_poc/data/raw/An-Introduction-to-Philosophy.pdf', 'page': 15}\n",
      "101 :  page_content='investigates the writings of scientists, if learning the truth is his goal, is to make himself \\nan enemy of all that he reads, and, apply ing his mind  to the core and margins of its \\ncontent, attack it from every side. He should also suspect himself as he performs his \\ncritical examination of it, so that he may avoid falling into either prejudice or leniency  \\nNotice in this rather militarized a nalogy that the discovery of truth happens when your attack' metadata={'source': '/Users/pinaki/Library/CloudStorage/OneDrive-Personal/Documents/Analytics_Projects/POCs_Python/Llm_w_rag_poc/llm_w_rag_poc/data/raw/An-Introduction-to-Philosophy.pdf', 'page': 16}\n",
      "111 :  page_content='minded because they are unwilling to consider the possibility the w arming of our climate is \\nthe result of sun spots . This is a fallacious attempt to undermine the science. We should hold' metadata={'source': '/Users/pinaki/Library/CloudStorage/OneDrive-Personal/Documents/Analytics_Projects/POCs_Python/Llm_w_rag_poc/llm_w_rag_poc/data/raw/An-Introduction-to-Philosophy.pdf', 'page': 17}\n",
      "121 :  page_content='evidence and argument. This will introduce blind spots in inquiry and frustrate attempts to \\nunderstand  things and figure things out. Likewise disrespectful treatment of others is liable to \\ndrive them from participating  in inquiry with the same result of ignoring potentially \\nimportant evidence and argument. Intolerance and disrespectful treatment of others is \\nliterally  a recipe for ignorance.  \\n• Politics:  I’m sure you have noticed how divisive politics is in America at the moment.' metadata={'source': '/Users/pinaki/Library/CloudStorage/OneDrive-Personal/Documents/Analytics_Projects/POCs_Python/Llm_w_rag_poc/llm_w_rag_poc/data/raw/An-Introduction-to-Philosophy.pdf', 'page': 19}\n",
      "131 :  page_content='evidence and argument for and against it . Sometimes good reasons take the form of simple \\nobservations. I have a good reason for thinking my bicycl e has a flat tire when I see the tire \\nsagging on the rim. But often the business of identifying and evaluating reasons is a bit more \\ninvolved.  \\nAn arg ument is a reason for taking  something  to be true . Arguments consist of two or more \\nclaims, one of which i s a conclusion.  The conclusion is the claim the argument aims  to establish' metadata={'source': '/Users/pinaki/Library/CloudStorage/OneDrive-Personal/Documents/Analytics_Projects/POCs_Python/Llm_w_rag_poc/llm_w_rag_poc/data/raw/An-Introduction-to-Philosophy.pdf', 'page': 20}\n",
      "141 :  page_content='identifying the ultimate foundations of knowledge and justified belief. This is a big \\nepistemological issue and we will return to it later in the course. For now, let ’s consider one \\npotential answer we are already fami liar wit h. In the sciences our complex chains of reasoning \\nseem to proceed from the evidence of the senses. We think that evidence provides the foundation \\nfor our edifice of scientific knowledge. Sounds great for science, but where does this leave' metadata={'source': '/Users/pinaki/Library/CloudStorage/OneDrive-Personal/Documents/Analytics_Projects/POCs_Python/Llm_w_rag_poc/llm_w_rag_poc/data/raw/An-Introduction-to-Philosophy.pdf', 'page': 22}\n",
      "151 :  page_content='aiming at validity . Deductive validity is the strictest standard of support we can uphold.  In a \\ndeductively valid argument, the truth of the premises guarantees the truth of the conclusion.  Here \\nare two equivalent de finitions of de ductive validity:  \\n(D)  A valid argument is an argument where if its premises are true, then its conclusion \\nmust be true.  \\n(D’)  A valid argument is an argument where it is not possible for all of its premises to \\nbe true and its conclusion fal se.' metadata={'source': '/Users/pinaki/Library/CloudStorage/OneDrive-Personal/Documents/Analytics_Projects/POCs_Python/Llm_w_rag_poc/llm_w_rag_poc/data/raw/An-Introduction-to-Philosophy.pdf', 'page': 23}\n",
      "161 :  page_content='logically operative vocabulary with symbols (we’ll use cap ital letters for this). So , consider the \\nlogical form of a few of our examples so far.  \\n1. All planets are stars.  \\n2. All stars are bodies that shine steadil y. \\n3. All planets are bodies that shine steadily.  \\nThis argument has the following form:  \\n1. All P are S  \\n2. All S are B  \\n3. All P are B  \\nAny argument that has this logical form will be valid. So, \\n1. All fish are vertebrates.  \\n2. All vertebrates are animals.' metadata={'source': '/Users/pinaki/Library/CloudStorage/OneDrive-Personal/Documents/Analytics_Projects/POCs_Python/Llm_w_rag_poc/llm_w_rag_poc/data/raw/An-Introduction-to-Philosophy.pdf', 'page': 25}\n",
      "171 :  page_content='obvious ly false or absurd.  \\nTo illustrate reductio ad adsurdum , let’s consider a view we mentioned briefly in the first \\nchap ter of this text about the nature of morality . A view  that many people find attractive: moral \\nrelativism. According to moral relativism, th ere are no objective moral standards, rather morality \\nis relative to groups depending on what is considered right in that group. When we consider what' metadata={'source': '/Users/pinaki/Library/CloudStorage/OneDrive-Personal/Documents/Analytics_Projects/POCs_Python/Llm_w_rag_poc/llm_w_rag_poc/data/raw/An-Introduction-to-Philosophy.pdf', 'page': 27}\n",
      "181 :  page_content='scrutinized for truth  or reasonableness . A good understanding of deductive validity can be very \\nuseful in identifying and  addressing our usually unspoken assumptions and biases (well, perhaps \\nin the example we just considered, the bias lies mainly in the AI driven algorithms employed by \\nFacebook).  \\nClarity  \\nFor reasons we just been discussing, a good understanding of deductive  validity can help you' metadata={'source': '/Users/pinaki/Library/CloudStorage/OneDrive-Personal/Documents/Analytics_Projects/POCs_Python/Llm_w_rag_poc/llm_w_rag_poc/data/raw/An-Introduction-to-Philosophy.pdf', 'page': 28}\n",
      "191 :  page_content='31 \\n This is a decent argument . The premises do support the conclusion.  And yet it might be that both \\npremises are true and  the conclusion is false.  Sam could  be a brand new cook , hired because he’s \\nthe manager’s son , but also someone who  has never cooked in his life. Many arguments give us \\ngood reasons for accepting their conclusions even  when true premises  don’t guarantee the truth \\nof the conclusion. This suggests that we need another  standard of supp ort for arguments that aim' metadata={'source': '/Users/pinaki/Library/CloudStorage/OneDrive-Personal/Documents/Analytics_Projects/POCs_Python/Llm_w_rag_poc/llm_w_rag_poc/data/raw/An-Introduction-to-Philosophy.pdf', 'page': 30}\n",
      "201 :  page_content='inductively generalizing.  Our inductive argument above would be stronger is we drew our \\nconclusion from a poll of 1 00,000 Seattle voters, for instance. And it would be much weaker if \\nwe had only polled 100.  Also, the strength of an inductive argument depends on the degree to \\nwhich the observed cases represent the makeup of the broader class of cases. So our inductive \\nargument wi ll be stronger if we randomly select our 1000 voters from the Seattle phone book' metadata={'source': '/Users/pinaki/Library/CloudStorage/OneDrive-Personal/Documents/Analytics_Projects/POCs_Python/Llm_w_rag_poc/llm_w_rag_poc/data/raw/An-Introduction-to-Philosophy.pdf', 'page': 31}\n",
      "211 :  page_content='people won’t want to believe false things for bad reasons or true things for bad reasons. B ad \\nreasons distort our understanding of the world, often in ways that indulge biases  or prejudices, as \\nwe’ll see in a few examples below.  \\nI will only discuss a choice selection of fallacies here. A full course in critical thinking would \\nintroduce you to ma ny more and include lots of practice at identifying them, first in text book \\nexercis es, then “in the wild.”' metadata={'source': '/Users/pinaki/Library/CloudStorage/OneDrive-Personal/Documents/Analytics_Projects/POCs_Python/Llm_w_rag_poc/llm_w_rag_poc/data/raw/An-Introduction-to-Philosophy.pdf', 'page': 32}\n",
      "221 :  page_content='found.  \\n• Straw Man:  When soldiers fought with bayonets on their rifles, they would train by \\nattacking straw men. Straw men are fairly  easy to stab with a bayonet since they don’t run' metadata={'source': '/Users/pinaki/Library/CloudStorage/OneDrive-Personal/Documents/Analytics_Projects/POCs_Python/Llm_w_rag_poc/llm_w_rag_poc/data/raw/An-Introduction-to-Philosophy.pdf', 'page': 33}\n",
      "231 :  page_content='inference , much  more so than generalizing methodically and scientifically. Where our fears \\nare rational, this  is all well and good. But fear is often not rational, and worse, our fears are \\neasily manipulated. Hasty generalization o n the basis of irrational  or manipulated fear is the \\nfoundation of some of the worst injustices people perpetrate. Racial prejudice is  a prime \\nexample.  \\n \\nThe German Historical Museum in Berlin curates a vast collection of antisemitic propaganda' metadata={'source': '/Users/pinaki/Library/CloudStorage/OneDrive-Personal/Documents/Analytics_Projects/POCs_Python/Llm_w_rag_poc/llm_w_rag_poc/data/raw/An-Introduction-to-Philosophy.pdf', 'page': 35}\n",
      "241 :  page_content='explanation strongly favors the idea that unemploy ment is a significant causal factor in crime \\nover the idea that race somehow explains crime.  So, inference to the best explanation \\nindicates that the correlation between crime and race is spurious, not causal.  \\n \\nThere are many more fallacies worth getting f amiliar with. I’ll leave you to explore these on your \\nown. The The Fallacy Files  is a good place to start. I’ll wrap up here with a brief discussion  of \\nconfirmation bias.' metadata={'source': '/Users/pinaki/Library/CloudStorage/OneDrive-Personal/Documents/Analytics_Projects/POCs_Python/Llm_w_rag_poc/llm_w_rag_poc/data/raw/An-Introduction-to-Philosophy.pdf', 'page': 36}\n",
      "251 :  page_content='40 \\n 2. People try on shoes b efore buying them. People  drive cars before signing up for a three -\\nyear lease. People take a close look at travel information before committing to an \\nexpensive vacation. So, people should have sex with each other before committing to \\nmarriage.  \\n3. Two teenagers were found writing graf fiti on the school walls yesterday. Thus , all \\nteenagers are delinquents.  \\n4. A reliable study showed that 90 percent of Bellevue College ’s students want more' metadata={'source': '/Users/pinaki/Library/CloudStorage/OneDrive-Personal/Documents/Analytics_Projects/POCs_Python/Llm_w_rag_poc/llm_w_rag_poc/data/raw/An-Introduction-to-Philosophy.pdf', 'page': 39}\n",
      "261 :  page_content='42 \\n Pythagoras (fl. 525-500 B .C.) traveled in Egypt where he learned astronomy and geometry. His \\nthought represents a peculiar amalgam of hardnosed mathematical thinking and creative but \\nrather kooky superstition. Pythagoras holds that all things consist of numbers. He saw \\nmathematics as a purifier of the soul. Thinking about numbers takes one ’s attention off of \\nparticular things and elevates  the mind to the realm of the eternal. Scientific thinking, on this' metadata={'source': '/Users/pinaki/Library/CloudStorage/OneDrive-Personal/Documents/Analytics_Projects/POCs_Python/Llm_w_rag_poc/llm_w_rag_poc/data/raw/An-Introduction-to-Philosophy.pdf', 'page': 41}\n",
      "271 :  page_content='fee, they taught students ho w to argue for the practical purpose  of persuading others  and winning \\ntheir way. While they were well acquainted with and taught the theories of philosophers, they \\nwere l ess concerned with inquiry and discovery than with persuasion.  \\nPythagoras and Heraclitus had offered some views on religion and the good life.  Social and \\nmoral issues come to occupy the center of attention for the Sophists.  Their tendency towards' metadata={'source': '/Users/pinaki/Library/CloudStorage/OneDrive-Personal/Documents/Analytics_Projects/POCs_Python/Llm_w_rag_poc/llm_w_rag_poc/data/raw/An-Introduction-to-Philosophy.pdf', 'page': 42}\n",
      "281 :  page_content='system can be evaluated as objectively better than another. Since earlier attempts at rational \\ninquiry had produced conflicting results,  the Sophists held that no opinion could be said to \\nconstitute knowledge. According to the Sophists, rather than providing grounds for thinking \\nsome beliefs are true and other s false, rational argument can only be fruitfully employed as \\nrhetoric, the art o f persuasion. For the epistemic relativist, the value of reason lies not in' metadata={'source': '/Users/pinaki/Library/CloudStorage/OneDrive-Personal/Documents/Analytics_Projects/POCs_Python/Llm_w_rag_poc/llm_w_rag_poc/data/raw/An-Introduction-to-Philosophy.pdf', 'page': 43}\n",
      "291 :  page_content='piety is  just a matter of being loved by the gods . If the g ods love puppy  torture, then this  would \\nbe pious . Hopefully this seems absurd.  Neither Socrates nor Euthyphro is willing to accept that \\nwhat is pious is completely arbitrary. At this point, Socrates points out to Euthyphro that since an' metadata={'source': '/Users/pinaki/Library/CloudStorage/OneDrive-Personal/Documents/Analytics_Projects/POCs_Python/Llm_w_rag_poc/llm_w_rag_poc/data/raw/An-Introduction-to-Philosophy.pdf', 'page': 44}\n",
      "301 :  page_content='the Oracle at Delphi.  \\n6. Socrates argues in a couple places that the worse man can not harm the better man. \\nHow does that argument go?  \\n7. What does Socrates ’ defense reveal about the values he lives by? What matters most \\nto Socrates in life?  \\n8. How does Socrates argue that the fear of deat h is irrational?  \\n9. How could Socrates  have avoided the death penalty?  \\n10. Was his choice not to evade death an honorable one?' metadata={'source': '/Users/pinaki/Library/CloudStorage/OneDrive-Personal/Documents/Analytics_Projects/POCs_Python/Llm_w_rag_poc/llm_w_rag_poc/data/raw/An-Introduction-to-Philosophy.pdf', 'page': 46}\n",
      "311 :  page_content='good. So his notion of epistemic excellence in seeking knowledge of the forms will be a central \\ncomponent of his concep tion of moral virtue.  \\nEthics  \\nPlato offers us a tripartite account of the soul.  The soul consists of a rational thinking element, a \\nmotivati ng willful element, and a desire -generating appetitive element. Plato offers a story of the \\nrational element of the soul falling from a state of grace (knowledge of the forms) and dragged' metadata={'source': '/Users/pinaki/Library/CloudStorage/OneDrive-Personal/Documents/Analytics_Projects/POCs_Python/Llm_w_rag_poc/llm_w_rag_poc/data/raw/An-Introduction-to-Philosophy.pdf', 'page': 47}\n",
      "321 :  page_content='Plato has a healthy regard for expertise.  As Plato sees it, democracy amounts to turning over the \\nethically most important job s to the people who have the least expertise and wisdom in this area.  \\nThere is very little reason to expect that a state run by cobblers, millers , and horse trainers will be \\na virtuous state.  \\nAristotle  \\nAristotle  is a towering figure in the history of philosophy  and science . Aristotle made substantive' metadata={'source': '/Users/pinaki/Library/CloudStorage/OneDrive-Personal/Documents/Analytics_Projects/POCs_Python/Llm_w_rag_poc/llm_w_rag_poc/data/raw/An-Introduction-to-Philosophy.pdf', 'page': 49}\n",
      "331 :  page_content='thus be tempting to think of Aristotle as a materialist, one who t hinks all that exists is matter,  just \\natoms swirling in the void. Some pre -Socratic philosophers could accurately be described as \\nmaterialis ts. But this would miss key elements of Aristotle ’s metaphysics. While Aristotle denies \\nthe existence of an abstract realm of eternal and unchanging ideal entities, his account of the \\nnature of things includes more than just matter. Aristotle holds the vie w that form is an integral' metadata={'source': '/Users/pinaki/Library/CloudStorage/OneDrive-Personal/Documents/Analytics_Projects/POCs_Python/Llm_w_rag_poc/llm_w_rag_poc/data/raw/An-Introduction-to-Philosophy.pdf', 'page': 50}\n",
      "341 :  page_content='a final cause  refers to the function, end , or telos of a thing. What makes the chair I ’m sitting on a \\nchair is that it performs a certain function that serves the end or telos  of providing a co mfortable \\nplace to sit. Again, Aristotle sees final causes as pervasive in the natural world. So part of \\nexplain ing what a tomato plant is, for instance, will involve giving an account of how it functions' metadata={'source': '/Users/pinaki/Library/CloudStorage/OneDrive-Personal/Documents/Analytics_Projects/POCs_Python/Llm_w_rag_poc/llm_w_rag_poc/data/raw/An-Introduction-to-Philosophy.pdf', 'page': 51}\n",
      "351 :  page_content='the Christian world . Aristotle ’s physics, for instance becomes the standard scientific view about \\nthe natural  world in Europe . Aristotle also wrote about the methods of science , and he was much \\nmore empirical than his teacher Plato. Aristotle thought the way to learn about the natural world \\nwas to make careful observations and infer general principles from these. For instance, as an  \\nearly biologist, Aristotle dissected hundreds of species of animals to learn about anatomy and' metadata={'source': '/Users/pinaki/Library/CloudStorage/OneDrive-Personal/Documents/Analytics_Projects/POCs_Python/Llm_w_rag_poc/llm_w_rag_poc/data/raw/An-Introduction-to-Philosophy.pdf', 'page': 53}\n",
      "361 :  page_content='56 \\n 5. The Rationalists  \\nIs all of our knowledge based on the evidence of the sense s, or is some of it justified by other \\nmeans? This epistemological question about the foundations of knowledge is what separates \\nRationalism  and Empiricism . According to  Rationalism  at least some knowledge can be had \\nthrough reason alone. For rationalists, the paradigm example of knowledge acquired  independent \\nof sense experience  is mathematics. Once we have the concepts required to understand' metadata={'source': '/Users/pinaki/Library/CloudStorage/OneDrive-Personal/Documents/Analytics_Projects/POCs_Python/Llm_w_rag_poc/llm_w_rag_poc/data/raw/An-Introduction-to-Philosophy.pdf', 'page': 55}\n",
      "371 :  page_content='defends a metaphysical view known as dualism that remains popular among many religious \\nbelievers. According to this view, the world is made up of two fundamentally diff erent kinds of \\nsubstance, matter and spirit (or mind). Material stuff occupies space and time and is subject to \\nstrictly deterministic laws of nature. But spiritual things, minds, are immaterial, exist eternally , \\nand have free will. If dualism reminds you of Plato ’s theory of the Form s, this would not be' metadata={'source': '/Users/pinaki/Library/CloudStorage/OneDrive-Personal/Documents/Analytics_Projects/POCs_Python/Llm_w_rag_poc/llm_w_rag_poc/data/raw/An-Introduction-to-Philosophy.pdf', 'page': 56}\n",
      "381 :  page_content='The Meditations  \\nDescartes project in his meditations is to carry out  a rational reconstruction of knowledge. \\nDescartes is living during an intellectually vibrant time and he is troubled by the lack of \\ncertainty. With the Protestant Reformation challenging the doctrines of the Catholic Church , and \\nscientific thinkers like Galileo and Copernicus applying  the empirical methods Aristotle \\nrecommends to the end of challenging the scientific views handed down from Aristotle, the' metadata={'source': '/Users/pinaki/Library/CloudStorage/OneDrive-Personal/Documents/Analytics_Projects/POCs_Python/Llm_w_rag_poc/llm_w_rag_poc/data/raw/An-Introduction-to-Philosophy.pdf', 'page': 57}\n",
      "391 :  page_content='thinks, then he can know with certainty that he exists as a thinking being. Many philosophers \\nsince then have worried about the validity of this inference.  Perhaps all we are entitled to infer is \\nthat there is thinking going on and we move beyond our indubitable foundation when we' metadata={'source': '/Users/pinaki/Library/CloudStorage/OneDrive-Personal/Documents/Analytics_Projects/POCs_Python/Llm_w_rag_poc/llm_w_rag_poc/data/raw/An-Introduction-to-Philosophy.pdf', 'page': 58}\n",
      "401 :  page_content='reason and later also through the senses. God being the most perfect and good being would rule \\nout the possibility of interference by an evil decei ver. We might still make mistakes in reasoning \\nor be misinformed by the senses. But this would be due to our failure to use these faculties \\ncorrectly. A good God, however, would not equip us with faculties that could not be trusted to \\njustify our beliefs i f used properly. This is a very cursory summary of the later stages of' metadata={'source': '/Users/pinaki/Library/CloudStorage/OneDrive-Personal/Documents/Analytics_Projects/POCs_Python/Llm_w_rag_poc/llm_w_rag_poc/data/raw/An-Introduction-to-Philosophy.pdf', 'page': 60}\n",
      "411 :  page_content='accept the Catholic faith as true and be saved or not. His philosophical view is an attempt to \\nreconcile these conflicting scientific and theological perspectives.  \\nAn unfortunate fact of history is that women in Descartes ’ time were ra rely given a thorough \\neducation or allowed to participate fully in intellectual life. A notable exception is the case of the \\nPrincess Elisabeth of Bohemia. And she was among the first to notice serious difficulties in the' metadata={'source': '/Users/pinaki/Library/CloudStorage/OneDrive-Personal/Documents/Analytics_Projects/POCs_Python/Llm_w_rag_poc/llm_w_rag_poc/data/raw/An-Introduction-to-Philosophy.pdf', 'page': 61}\n",
      "421 :  page_content='64 \\n Descartes ’ method of doubt sets him on the project of finding epistemological foundations for \\nknowledge. Descartes seeks to identify some knowledge as foundational in the sense of being \\nable to justify the rest of our knowledge. By contrast, we might best understand  Spinoza as \\nseeking metaphysical foundations. Suppose the world is intelligible, that its nature can be \\nunderstood rationally. Assuming this, what must the world be like? We might worry that this' metadata={'source': '/Users/pinaki/Library/CloudStorage/OneDrive-Personal/Documents/Analytics_Projects/POCs_Python/Llm_w_rag_poc/llm_w_rag_poc/data/raw/An-Introduction-to-Philosophy.pdf', 'page': 63}\n",
      "431 :  page_content='respects, has an inf inite number of aspects, or attributes. Our existence as human beings presents \\nus with only two of these, the attribute of thought and the attribution of extension (physical \\nspatio -temporal existence).  \\nWhile though t and extension, which we experience as mi nd and body, are attributes of God, our \\nidea that there is some interaction between the two is a further confusion according to  Spinoza .' metadata={'source': '/Users/pinaki/Library/CloudStorage/OneDrive-Personal/Documents/Analytics_Projects/POCs_Python/Llm_w_rag_poc/llm_w_rag_poc/data/raw/An-Introduction-to-Philosophy.pdf', 'page': 64}\n",
      "441 :  page_content='physical world. But according to Leibniz there  is no actual interaction between monads. Instead, \\nmonads exist in a harmony that is pre -established by God. As a result, like an element in a \\nspectral image or a droplet in a cloud, each monad carrie s in it a reflection all  of creation.  \\nIf this seems to be a rather exotic picture of the world, let ’s review the problems Leibniz is trying \\nto negotiate in the wake of Descartes and Spinoza. The problem of mind/body interaction looms' metadata={'source': '/Users/pinaki/Library/CloudStorage/OneDrive-Personal/Documents/Analytics_Projects/POCs_Python/Llm_w_rag_poc/llm_w_rag_poc/data/raw/An-Introduction-to-Philosophy.pdf', 'page': 65}\n",
      "451 :  page_content='John Locke  \\nJohn Locke  (1632 –1704 ) is better known now for his political thought than his Empiricism . \\nLock e spent time in Holland as a young man and his political thought was probably influenced \\nsignificantly by Spinoza who had died only recently. Locke argued against the divine right of \\nkings to rule and instead defended a liberal egalitarian political philosophy on which people have \\nequal and natural right s to liberty . Liberty , in Locke ’s thought , should be understood as being' metadata={'source': '/Users/pinaki/Library/CloudStorage/OneDrive-Personal/Documents/Analytics_Projects/POCs_Python/Llm_w_rag_poc/llm_w_rag_poc/data/raw/An-Introduction-to-Philosophy.pdf', 'page': 67}\n",
      "461 :  page_content='perceptions. Berkeley defends this as the view that best accords with common sense in Three \\nDialogues betwee n Hylas and Philonous .  \\nBerkeley ’s argument attacks Locke ’s distinction between primary and secondary qualities and \\nargues that all of our sense impressions are mere appearances  and that we have no grounds for \\nthinking  that any of them  bear any resemb lance to the way things are. Since we lack any' metadata={'source': '/Users/pinaki/Library/CloudStorage/OneDrive-Personal/Documents/Analytics_Projects/POCs_Python/Llm_w_rag_poc/llm_w_rag_poc/data/raw/An-Introduction-to-Philosophy.pdf', 'page': 68}\n",
      "471 :  page_content='Hume empiricism is the view that all of our knowledge of the world is ultimately based on sense \\nexperience. To get a clear picture, we’ll need to dive in to a bit more detail. Hume distinguishes' metadata={'source': '/Users/pinaki/Library/CloudStorage/OneDrive-Personal/Documents/Analytics_Projects/POCs_Python/Llm_w_rag_poc/llm_w_rag_poc/data/raw/An-Introduction-to-Philosophy.pdf', 'page': 69}\n",
      "481 :  page_content='whenever similar matches are struck (under the right conditions), they light, plus the idea of the \\nstriking happening first, and the idea of the striking and th e lighting happen right next to each \\nother in time and space, and, finally, the idea that the striking somehow necessitates or makes the \\nmatch light.  \\nSo far , we have just examined a relation of ideas that is knowable a priori. Our idea of causation' metadata={'source': '/Users/pinaki/Library/CloudStorage/OneDrive-Personal/Documents/Analytics_Projects/POCs_Python/Llm_w_rag_poc/llm_w_rag_poc/data/raw/An-Introduction-to-Philosophy.pdf', 'page': 71}\n",
      "491 :  page_content='But then what justifies the inference from the premise to the conclusion of an inductive \\nargument?  \\nHume suggests  that every inductive argument has a principle of induction as a suppressed \\npremise, and it is this principle of induction that renders the inference from premises to \\nconclusion rational. This principle of induction tells us roughly that unobserved instances tend to' metadata={'source': '/Users/pinaki/Library/CloudStorage/OneDrive-Personal/Documents/Analytics_Projects/POCs_Python/Llm_w_rag_poc/llm_w_rag_poc/data/raw/An-Introduction-to-Philosophy.pdf', 'page': 72}\n",
      "501 :  page_content='appeal to disagreement about moral matters as support for moral skepticism, and Hume wou ld \\nnot go alo ng with  this. There are  moral issues where people  disagree  like whether the de ath \\npenalty is justifiable, the morality of abortion in various  cases, whether drug use sho uld be \\nprosecuted as a crime. Points of dis agreement like these get a good de al of attention, but they are \\nactually the exceptions to much broader moral agreement. We generally th ink it i s generally' metadata={'source': '/Users/pinaki/Library/CloudStorage/OneDrive-Personal/Documents/Analytics_Projects/POCs_Python/Llm_w_rag_poc/llm_w_rag_poc/data/raw/An-Introduction-to-Philosophy.pdf', 'page': 74}\n",
      "511 :  page_content='posthumously published Dialogues of Natural Religion , aimed to undermine many argumen ts for \\nthe existence of God , including the Design A rgument.  \\nAccording to Hume, the Design A rgument is a weak argument by analogy. We have reason to \\nthink that machines are the product of human design because we are familiar with their means of \\nproduction. But we have no analogue in the case of the universe. We have not observed its' metadata={'source': '/Users/pinaki/Library/CloudStorage/OneDrive-Personal/Documents/Analytics_Projects/POCs_Python/Llm_w_rag_poc/llm_w_rag_poc/data/raw/An-Introduction-to-Philosophy.pdf', 'page': 75}\n",
      "521 :  page_content='7. How does the imagination form new ideas , according to Hume?' metadata={'source': '/Users/pinaki/Library/CloudStorage/OneDrive-Personal/Documents/Analytics_Projects/POCs_Python/Llm_w_rag_poc/llm_w_rag_poc/data/raw/An-Introduction-to-Philosophy.pdf', 'page': 76}\n",
      "531 :  page_content='address the skeptical problems raised by Hume might be to examine more closely the methods \\nby whi ch we seem to attain knowledge and begin to sort out how they work in practice.  In this' metadata={'source': '/Users/pinaki/Library/CloudStorage/OneDrive-Personal/Documents/Analytics_Projects/POCs_Python/Llm_w_rag_poc/llm_w_rag_poc/data/raw/An-Introduction-to-Philosophy.pdf', 'page': 78}\n",
      "541 :  page_content='Among the main tasks the Positivists set for themselves was that of distinguishing legitimate \\nscience from other rather suspect fields and methods of human inquiry.  Specifically, they wanted \\nto distinguish science from religion, metaphy sics, and pseudo -science like astrology.  \\nThe speculation and lack of clarity in most 19th century philosophy often made philosophy more \\nrepresentative of national or cultural viewpoints and values than straight inquiry into' metadata={'source': '/Users/pinaki/Library/CloudStorage/OneDrive-Personal/Documents/Analytics_Projects/POCs_Python/Llm_w_rag_poc/llm_w_rag_poc/data/raw/An-Introduction-to-Philosophy.pdf', 'page': 80}\n",
      "551 :  page_content='discourse. But the Verificationist Theory of Meaning even tually falls apart for a number of \\nreasons including that it  turns out not to be meaningful according to its own criteria. Amusingly, \\nwe can ’t provide an empirical test of truth or falsity for the claim that a claim is meaningful only \\nif we can provide an empirical test for its truth or falsity. That is, according to the Verificationist \\nTheory of Meaning, the term “meaning ful” turns out to be meaningless. Logical Positivism' metadata={'source': '/Users/pinaki/Library/CloudStorage/OneDrive-Personal/Documents/Analytics_Projects/POCs_Python/Llm_w_rag_poc/llm_w_rag_poc/data/raw/An-Introduction-to-Philosophy.pdf', 'page': 81}\n",
      "561 :  page_content='has nothing to do with our level of certainty in its truth . Many scientific theories are among the  \\nbest established scientific knowledge we have . A few years ago , for instance,  some scientist \\nclaimed to have observe d a particle in a particle accelerator  travelling faster than the speed of \\nlight. It made the news and caused a bit of excitement. But those in the know, those who \\nunderstand Einstein ’s special  relativity and the full weight of the evidence in support of it' metadata={'source': '/Users/pinaki/Library/CloudStorage/OneDrive-Personal/Documents/Analytics_Projects/POCs_Python/Llm_w_rag_poc/llm_w_rag_poc/data/raw/An-Introduction-to-Philosophy.pdf', 'page': 82}\n",
      "571 :  page_content='Hempe l’s account of explanation faced a number of problems that have helped to refine our \\nunderstanding of scientific explanation. We won ’t address them here except to mention one \\nbecause it ’s amusing. Consider this explanation:  \\n1. Men who take birth control pills  do not get pregnant.  \\n2. Bruce is a man and he takes birth control pills.  \\n3. Bruce is not pregnant.  \\nThis seems to meet all of the positivist ’s criteria for being an explanation. But aside from being' metadata={'source': '/Users/pinaki/Library/CloudStorage/OneDrive-Personal/Documents/Analytics_Projects/POCs_Python/Llm_w_rag_poc/llm_w_rag_poc/data/raw/An-Introduction-to-Philosophy.pdf', 'page': 84}\n",
      "581 :  page_content='hypotheses are offered as bold conjectures (guesses) about the nature of the world.  In testing \\nthese conjectures through empirical experiment, we cannot give positive inductive reasons for \\nthinking that they a re true.  But we can give reason s for thinking they are false.  To see how this \\nworks, let ’s look at the pattern of reasoning employed in testing a scientific hypothesis using \\ninductio n on the one hand, and Popper ’s deductive  method of conjectu re and refutat ion on the' metadata={'source': '/Users/pinaki/Library/CloudStorage/OneDrive-Personal/Documents/Analytics_Projects/POCs_Python/Llm_w_rag_poc/llm_w_rag_poc/data/raw/An-Introduction-to-Philosophy.pdf', 'page': 85}\n",
      "591 :  page_content='which we would count this as false. Namely, seeing a white crow , or a green one. Being able to' metadata={'source': '/Users/pinaki/Library/CloudStorage/OneDrive-Personal/Documents/Analytics_Projects/POCs_Python/Llm_w_rag_poc/llm_w_rag_poc/data/raw/An-Introduction-to-Philosophy.pdf', 'page': 86}\n",
      "601 :  page_content='accou nt the auxiliary hypotheses, the pattern of reasoning used in Popper ’s met hod of conjecture \\nand refutation looks like this:  \\n1. If H and AH, then O  \\n2. Not O  \\n3. Therefore, not H  \\nBut this argument pattern is not valid.  The observation (not O) might indicate the falsit y of one \\nof the auxiliary hypotheses (AH) rather than the falsity of (H), the hypothesis we set out to test.  \\nWhat this tells us is that the implications of other than expected obs ervations are always' metadata={'source': '/Users/pinaki/Library/CloudStorage/OneDrive-Personal/Documents/Analytics_Projects/POCs_Python/Llm_w_rag_poc/llm_w_rag_poc/data/raw/An-Introduction-to-Philosophy.pdf', 'page': 88}\n",
      "611 :  page_content='requires explan ation and provides a standard for what counts as an adequate explanation \\nof that phenomenon.  \\n4. Exemplars : These are textbook applications of the theory to the phenomenon it is \\nintended to explain.  Classical physics is taught through exemplars that include ap plying \\nNewton ’s laws to swinging pendulums and forces exerted on springs.  \\nNormal science, the second o f Kuhn ’s three stages, is carried out within a paradigm.  Working' metadata={'source': '/Users/pinaki/Library/CloudStorage/OneDrive-Personal/Documents/Analytics_Projects/POCs_Python/Llm_w_rag_poc/llm_w_rag_poc/data/raw/An-Introduction-to-Philosophy.pdf', 'page': 89}\n",
      "621 :  page_content='sense, paradigms are said to be incommensur able (lacking any common measure or independent \\nstandard of comparison).   \\nIt is tempting to see the cycle of normal science and revolutionary science as a Popper style \\nprocess of conjecture and refutation at the level of paradigms. However, Kuhn maintains that \\nparadigms are never exactly refuted by intractable anomalies. Rather, when the scientific' metadata={'source': '/Users/pinaki/Library/CloudStorage/OneDrive-Personal/Documents/Analytics_Projects/POCs_Python/Llm_w_rag_poc/llm_w_rag_poc/data/raw/An-Introduction-to-Philosophy.pdf', 'page': 91}\n",
      "631 :  page_content='substance than the body. Bodies are composed of matter that exists in space a nd time , and \\nbehaves in accordance with laws of nature. Minds, however, are spiritual in nature according to \\nDescartes. Their existe nce is not spatio -temporally bound , and unlike physical stuff, minds have \\nfree will. The critical faults in Descartes ’ view were quickly spotted by Princess Elisabeth  of \\nBohemia. The central problem lies in accounting for how the mind and the body can have  any' metadata={'source': '/Users/pinaki/Library/CloudStorage/OneDrive-Personal/Documents/Analytics_Projects/POCs_Python/Llm_w_rag_poc/llm_w_rag_poc/data/raw/An-Introduction-to-Philosophy.pdf', 'page': 93}\n",
      "641 :  page_content='obvious problems we ’ve seen in i dentifying mental states with observable behaviors, Ryle \\nproposed to analyze mental states as  dispositions  to behave.  \\nWe are disposed in o ne way or another when we would behave a certain way given certain \\nconditions. The behavior is not the disposition its elf, but a  manifestation  of the disposition. The  \\ndisposition  can be identified in terms of  a certain kind of “if. . .then. . .” statement . To help get' metadata={'source': '/Users/pinaki/Library/CloudStorage/OneDrive-Personal/Documents/Analytics_Projects/POCs_Python/Llm_w_rag_poc/llm_w_rag_poc/data/raw/An-Introduction-to-Philosophy.pdf', 'page': 94}\n",
      "651 :  page_content='97 \\n in some sense in me or part of me. The Brain State Identity Theory, m ost ably advanced by J.  J. \\nC. Smart, goes some ways towards remedying this defect (though Ryle would not have counted \\nit as a defect). The Brain State Identity Theory proposes that mental states are identical with \\nbrain states. Contrary to Descartes ’ duali sm, the Identity Theory  takes mind to be a physical \\nthing. Namely, it takes the mind to be identical with the brain. For this reason the Identity Theory' metadata={'source': '/Users/pinaki/Library/CloudStorage/OneDrive-Personal/Documents/Analytics_Projects/POCs_Python/Llm_w_rag_poc/llm_w_rag_poc/data/raw/An-Introduction-to-Philosophy.pdf', 'page': 96}\n",
      "661 :  page_content='Functionalists would understand talk of dispositions more in line with the way we usually do \\nwhen we take a disposition to be based on some underlying state, as when we tak e the springs \\nflexibility to be based on the physical properties of the steel it is made of.  \\nAccording to functionalism , to be in a mental state is to be in  some underlying brain state that \\nrealizes a certain functional role. The functional role can be un derstood as a complex of' metadata={'source': '/Users/pinaki/Library/CloudStorage/OneDrive-Personal/Documents/Analytics_Projects/POCs_Python/Llm_w_rag_poc/llm_w_rag_poc/data/raw/An-Introduction-to-Philosophy.pdf', 'page': 97}\n",
      "671 :  page_content='Consciousness does not yield to functional analysis in the same way. An interesting kind of \\nthought experiment suggests that c onsciousness can ’t be understood in purely functional terms or \\nin terms of physical properties  and processes  at all. First , we need to talk about zombies. The \\nzombies we are familiar with from horror stories are easily recognizable. They walk in menac ing \\ndull-witted ways in spite of broken legs and open wounds. They are the reanimated dead. This is' metadata={'source': '/Users/pinaki/Library/CloudStorage/OneDrive-Personal/Documents/Analytics_Projects/POCs_Python/Llm_w_rag_poc/llm_w_rag_poc/data/raw/An-Introduction-to-Philosophy.pdf', 'page': 98}\n",
      "681 :  page_content='and pursue things that are also quite self -destructive. Between love an d happiness,  it is quite \\npossible for us to be at odds with ourselves. Indeed, this is the stuff of tragedy. So perhaps what \\nwill make us happy and lead to a flourishing life isn ’t so subjective after all.  \\nIn subsequent chapters  we’ll examine the nature of  morality  generally, some theories of morally \\ngood action , and finally social justice. It might be tempting to think we move from the more to' metadata={'source': '/Users/pinaki/Library/CloudStorage/OneDrive-Personal/Documents/Analytics_Projects/POCs_Python/Llm_w_rag_poc/llm_w_rag_poc/data/raw/An-Introduction-to-Philosophy.pdf', 'page': 100}\n",
      "691 :  page_content='emotionally more complicated than that , and Aris totle’s account of Philia  sheds some light on \\nthis. A person who cares about you for your own sake will generally feel good about you when \\nthings are going well. But another e motional manifestation of whole -hearted love might include \\ndisappointment when  if you make  an irresponsible choice , or anxiety if you are at risk  in some \\nway. This makes perfect sense on Aristotle ’s account .  \\nLoving  things' metadata={'source': '/Users/pinaki/Library/CloudStorage/OneDrive-Personal/Documents/Analytics_Projects/POCs_Python/Llm_w_rag_poc/llm_w_rag_poc/data/raw/An-Introduction-to-Philosophy.pdf', 'page': 101}\n",
      "701 :  page_content='essence of Philia . Art, I’d suggest, is distinguished in part by the loving devotion of the artist . \\nNow , depending on your inclination,  listen to some Rachmaninov  or some Spoon  and see if you \\nget my point.  \\nSelf-Esteem  \\nWhat if we apply Aristotle ’s classic treatment of Philia  to ourselves?  The result is just that to \\nlove ourselves is to adopt the good for ourselves as a good of our own.  Broadly speaking , to love' metadata={'source': '/Users/pinaki/Library/CloudStorage/OneDrive-Personal/Documents/Analytics_Projects/POCs_Python/Llm_w_rag_poc/llm_w_rag_poc/data/raw/An-Introduction-to-Philosophy.pdf', 'page': 102}\n",
      "711 :  page_content='105 \\n Even the most subtle minds are often overly tempte d by the lure of simplification . So, it is not \\ntoo surpri sing to hear smart people speaking  of erotic love as nothing more than  friendship plus \\nsex. This view has the attraction of reducing erotic love to just a special variety of Philia . But the \\nworld has seen plenty of lovers that for one reason or ano ther can ’t or don ’t have sex. And we' metadata={'source': '/Users/pinaki/Library/CloudStorage/OneDrive-Personal/Documents/Analytics_Projects/POCs_Python/Llm_w_rag_poc/llm_w_rag_poc/data/raw/An-Introduction-to-Philosophy.pdf', 'page': 104}\n",
      "721 :  page_content='simply can ’t relate to. The co ntemporary literature on the erotic love has framed the problem \\nwith this impersonal view of erotic love in new ways. Robert Nozick, for instance, has pointed \\nout that if erotic love for another is focused on qualities we find charming or desirable , then i t \\nshould make sense for us to “trade up” whenever we find another ind ividual who has those \\nqualities to a higher degree or those qualities plus others we find charming. Indeed, in the shuffle' metadata={'source': '/Users/pinaki/Library/CloudStorage/OneDrive-Personal/Documents/Analytics_Projects/POCs_Python/Llm_w_rag_poc/llm_w_rag_poc/data/raw/An-Introduction-to-Philosophy.pdf', 'page': 105}\n",
      "731 :  page_content='yourself, I ’m sure you know others who have.  \\nPerhaps the stumbling block of distorting imagination is just a practical problem and the quest \\nfor one ’s soul mate can be redeemed if only we can get a clear  picture of  who reall y is ideal for \\nus. But there are other stumbling blocks built into the quest for one ’s soul mate. A problem \\ninherent to this quest is that, except for the searching, it puts one in a totally passive position,' metadata={'source': '/Users/pinaki/Library/CloudStorage/OneDrive-Personal/Documents/Analytics_Projects/POCs_Python/Llm_w_rag_poc/llm_w_rag_poc/data/raw/An-Introduction-to-Philosophy.pdf', 'page': 106}\n",
      "741 :  page_content='Happiness  \\nLet’s start with the idea of something mattering . First notice the differ ence between something \\nmattering to us and something mattering for us. Almost anything could matter to someone. All it \\ntakes  for something to matter to someone is for that person to be concerned with it. Mattering to \\nor being important to someone is subjective. Stamp collecting might matter to one person but not' metadata={'source': '/Users/pinaki/Library/CloudStorage/OneDrive-Personal/Documents/Analytics_Projects/POCs_Python/Llm_w_rag_poc/llm_w_rag_poc/data/raw/An-Introduction-to-Philosophy.pdf', 'page': 107}\n",
      "751 :  page_content='110 \\n around the corner and we are dissatisfi ed again until we are briefly sated by its attainment . \\nGetting what he or she wants doesn ’t seem to help the spoiled child either. Part of the problem \\nmight be that having your every wish indulged provokes insecurity. The spoiled child becomes \\ncompletely a nd passively dependent on the parent who indulges , and the stakes are ever higher as \\nthe desires become more pressing. Clearly,  we can get what we want and still not be happy. This' metadata={'source': '/Users/pinaki/Library/CloudStorage/OneDrive-Personal/Documents/Analytics_Projects/POCs_Python/Llm_w_rag_poc/llm_w_rag_poc/data/raw/An-Introduction-to-Philosophy.pdf', 'page': 109}\n",
      "761 :  page_content='what matters to us and what matters for us . But it is not yet clear how to do so.  \\nOne thing does seem c lear on the question, how ever: w e don ’t want to be told what is good for \\nus. Settling on what is good for us  shouldn ’t be a matter of acquiescence to some authority, \\nwhether it is our parents, some tyrant , or the tyranny of popular opinion. If we don ’t get to decide \\nwhat matters f or us, then it won ’t do to have anybody else deciding for us. The possibility that' metadata={'source': '/Users/pinaki/Library/CloudStorage/OneDrive-Personal/Documents/Analytics_Projects/POCs_Python/Llm_w_rag_poc/llm_w_rag_poc/data/raw/An-Introduction-to-Philosophy.pdf', 'page': 110}\n",
      "771 :  page_content='goodness is an end that has “to be pursued” built into it. Thus goodness, for the ancient Greeks, \\nwas a natural and obvious theoretical posit, needed to make sense out of any sort of talk of value. \\nFor humans, the kind of goodness that matters is the good life. So ethics in general is concerned \\nwith how to live well, how to lead an excellent life.  \\nIn the idea of flourishing, we have at least one familiar notion  that should help us better' metadata={'source': '/Users/pinaki/Library/CloudStorage/OneDrive-Personal/Documents/Analytics_Projects/POCs_Python/Llm_w_rag_poc/llm_w_rag_poc/data/raw/An-Introduction-to-Philosophy.pdf', 'page': 111}\n",
      "781 :  page_content='the garden,  ride bicycles , or practice yoga than just do philosophy all the time , and that this is a \\ngood way to live too . A reply that Aristotle can offer here (the reply I think he ought to offer) is \\nto say , “very well, and any  of these activities will contribute to your flourishing only if you  \\nengage your rational capacities and  do them in thoughtful and inquisitive ways. ” Many crafts,' metadata={'source': '/Users/pinaki/Library/CloudStorage/OneDrive-Personal/Documents/Analytics_Projects/POCs_Python/Llm_w_rag_poc/llm_w_rag_poc/data/raw/An-Introduction-to-Philosophy.pdf', 'page': 112}\n",
      "791 :  page_content='115 \\n is quite literally character building. This way of thinking about virtue stands in sharp contrast to \\nmore popular conceptions where to be  virtuous involves lots of sacrifice . We suffer from a \\nChristianized notion of virtue that is more ofte n than not associated with self -denial. To be \\nvirtuous in the popular sense means something like not overindulgi ng in cheese cake or s ex. But \\nwe are concerned with the idea of virtue as  a kind of  excellence. W hen Aristotle talks about' metadata={'source': '/Users/pinaki/Library/CloudStorage/OneDrive-Personal/Documents/Analytics_Projects/POCs_Python/Llm_w_rag_poc/llm_w_rag_poc/data/raw/An-Introduction-to-Philosophy.pdf', 'page': 114}\n",
      "801 :  page_content='22. On Aristotle ’s view, once we know what the good life is, how do we lead it?  \\n23. How does Aristotle understand virtue?  \\n24. What sorts of things can be aids or obstacles to our flourishing?' metadata={'source': '/Users/pinaki/Library/CloudStorage/OneDrive-Personal/Documents/Analytics_Projects/POCs_Python/Llm_w_rag_poc/llm_w_rag_poc/data/raw/An-Introduction-to-Philosophy.pdf', 'page': 115}\n",
      "811 :  page_content='then want to know what that is.  \\nWe will take up each of these positions in turn i n this chapter . In doing so, we are engaged in \\nmeta -ethics , inquiring into the status of morality , whether it is subjective or objective and how \\nso. Our meta -ethical in quiry will set the stage for our final two chapters on the normative ethics \\nof actions a nd social justice, the normative ethics of societies.  \\nNihilism' metadata={'source': '/Users/pinaki/Library/CloudStorage/OneDrive-Personal/Documents/Analytics_Projects/POCs_Python/Llm_w_rag_poc/llm_w_rag_poc/data/raw/An-Introduction-to-Philosophy.pdf', 'page': 117}\n",
      "821 :  page_content='experience informs me that my  bike has a flat tire an d my subjective tactile experience quickly \\nconfirms this.  This subjective experience gives me a reason to believe that my bike tire is  flat as \\nan objective matter of fact . Setting aside skeptical curiosities like Desc artes’ evil deceiver, it \\nseems that we can learn  quite a bit about what is objectively true on basis of our subjective  \\nexperience . But because this broad sense of what is subjective includes experiences that track' metadata={'source': '/Users/pinaki/Library/CloudStorage/OneDrive-Personal/Documents/Analytics_Projects/POCs_Python/Llm_w_rag_poc/llm_w_rag_poc/data/raw/An-Introduction-to-Philosophy.pdf', 'page': 118}\n",
      "831 :  page_content='be) and moral subjectiv ism provides a convenient escape from conf lict. We might be care ful \\nwhat we wish for, though. Wh ile moral subjectivism shields us from conflict  and criticism , it \\nalso rules out resolving conflicts reasonably, with brings us to our next objection.  \\n2. No Reasoning about Morality  \\nSuppose you feel strong ly about the injustice  of the death penalty  and you’ve thought a good' metadata={'source': '/Users/pinaki/Library/CloudStorage/OneDrive-Personal/Documents/Analytics_Projects/POCs_Python/Llm_w_rag_poc/llm_w_rag_poc/data/raw/An-Introduction-to-Philosophy.pdf', 'page': 119}\n",
      "841 :  page_content='122 \\n issues where people’s  opinions conflict. But most moral issues aren’t like this. Almost everyone \\nagrees  that it is wrong to cheat, lie, steal , and kill. We even tend to agre e on most of the cases \\nwhere we’d make exceptions to these general  moral rules. Moral subjectivism has little to offer \\nin the way of explaining our broad agreement on most moral matters. And this suggests that \\nmorality is not so arbitrary.  \\nMoral Relativism' metadata={'source': '/Users/pinaki/Library/CloudStorage/OneDrive-Personal/Documents/Analytics_Projects/POCs_Python/Llm_w_rag_poc/llm_w_rag_poc/data/raw/An-Introduction-to-Philosophy.pdf', 'page': 121}\n",
      "851 :  page_content='(again, what is right , not just what is considered right).  In some cultures, it is considered right for \\nfathers and brothers to kill female family members who have been raped . Such “honor killings” \\n(committed in order to preserve the family ’s honor) strike us as morally horrible, and for this \\nreason CMR  will count honor killings as wrong relative to our cul ture. But CMR will count \\nhonor killing as right relative to those cultu res that accept them . It looks like anything goes, on' metadata={'source': '/Users/pinaki/Library/CloudStorage/OneDrive-Personal/Documents/Analytics_Projects/POCs_Python/Llm_w_rag_poc/llm_w_rag_poc/data/raw/An-Introduction-to-Philosophy.pdf', 'page': 122}\n",
      "861 :  page_content='A straightforward consequence of the moral infallibility of cultures on CMR  is that it will  be \\nconceptually im possible for any reason or argument to be offered against the moral standards of \\na culture.  Since what is right relative to a culture is defined by that culture’s standards, no \\nrational argument to the contrary is possible. Those who disagre e with a culture’s moral \\nstandards, whether members of that culture or another, have no rational basis for doing so and' metadata={'source': '/Users/pinaki/Library/CloudStorage/OneDrive-Personal/Documents/Analytics_Projects/POCs_Python/Llm_w_rag_poc/llm_w_rag_poc/data/raw/An-Introduction-to-Philosophy.pdf', 'page': 123}\n",
      "871 :  page_content='126 \\n The argument here is straightforward and valid. CMR  entails that we should be tolerant of \\ndiversity if and only if our culture  deems tolerance of diversity to be a good thing. If a culture  \\ndeems intolerance to be good, then, according to CMR , intoler ance is good relative to that group. \\nOur culture may deem  tolerance and respect for diversity a good thing, but as we ’ve seen,  this' metadata={'source': '/Users/pinaki/Library/CloudStorage/OneDrive-Personal/Documents/Analytics_Projects/POCs_Python/Llm_w_rag_poc/llm_w_rag_poc/data/raw/An-Introduction-to-Philosophy.pdf', 'page': 125}\n",
      "881 :  page_content='that dialogue Socrates  asks if the gods love what is good because it is good or if what is good is \\ngood because the gods love it. DCT is t he latter  option, that what is good is good because God \\nloves it.  Plato points towards  the central problem with DCT  in this question and , again,  it’s that \\nDCT  makes ethics completely arbitrary. In principle, God could command that anything be right. \\nGod could command that we torture puppies, commit genocide, and treat childr en like livestock.' metadata={'source': '/Users/pinaki/Library/CloudStorage/OneDrive-Personal/Documents/Analytics_Projects/POCs_Python/Llm_w_rag_poc/llm_w_rag_poc/data/raw/An-Introduction-to-Philosophy.pdf', 'page': 126}\n",
      "891 :  page_content='following chapter. First we will conclude this chapter with answers to  some objections and  \\nmisconceptions concerning  moral realism .  \\n1. But M orality isn’t like Science ! \\nIf objective moral value is real, shouldn’t we expect to find some scientific confirmation of this, \\nsome proof or evidence of its existence? Perhaps, but what sort of proof or evidence we should \\nwe expect to find remains an open  question. It may be helpful to consider the sort of proof or' metadata={'source': '/Users/pinaki/Library/CloudStorage/OneDrive-Personal/Documents/Analytics_Projects/POCs_Python/Llm_w_rag_poc/llm_w_rag_poc/data/raw/An-Introduction-to-Philosophy.pdf', 'page': 127}\n",
      "901 :  page_content='dogmatism that  leads to misguided objectivis m? For a person who is dogmatically sure of their \\nview , asserting their view as objectively correct is a convenient way of rationalizing their \\nintolerance  of other views . But too often, when we do encounter characters of this sort, the \\nintolerant  bigot or  religious fanatic for instance, we also find pretty good reasons to think their' metadata={'source': '/Users/pinaki/Library/CloudStorage/OneDrive-Personal/Documents/Analytics_Projects/POCs_Python/Llm_w_rag_poc/llm_w_rag_poc/data/raw/An-Introduction-to-Philosophy.pdf', 'page': 128}\n",
      "911 :  page_content='more cultures, acknowledgi ng fallibility should alert us to the possibility that it is our own \\nculture that has things wrong.  \\nMany of the things billed as moral matters in cultural or religious traditions are not really moral \\nissues at all.  There may be objective moral truths, and  yet none that speak to how animals should \\nbe butchered, whether women should wear veils, how many spouses a person can have, whether' metadata={'source': '/Users/pinaki/Library/CloudStorage/OneDrive-Personal/Documents/Analytics_Projects/POCs_Python/Llm_w_rag_poc/llm_w_rag_poc/data/raw/An-Introduction-to-Philosophy.pdf', 'page': 130}\n",
      "921 :  page_content='religious faith tend to go for Divine command theory and non -believe rs tend to merely substitut e \\nsociety’s say -so for Gods. The idea that morality is independent of these things and so can be the \\nsubject of critical inquiry is rather unfashionable outside of philosophical circles. At least that \\nseems to be the bias in cont emporary American culture. This chapter has followed fairly standard' metadata={'source': '/Users/pinaki/Library/CloudStorage/OneDrive-Personal/Documents/Analytics_Projects/POCs_Python/Llm_w_rag_poc/llm_w_rag_poc/data/raw/An-Introduction-to-Philosophy.pdf', 'page': 131}\n",
      "931 :  page_content='range of poss ible cases. We will start with Utilitarianism , a view of right action based on th e idea \\nthat happiness has fundamental value. We ’ll then examine Kant ’s ethics of  respect f or persons. \\nOn this view person s have intrinsic moral worth , and ethics is concerned with what respecting \\nfor persons requires of us.  \\nBoth Utilitarianism  and Kant ’s ethics of respect for persons can be understoo d as aiming to' metadata={'source': '/Users/pinaki/Library/CloudStorage/OneDrive-Personal/Documents/Analytics_Projects/POCs_Python/Llm_w_rag_poc/llm_w_rag_poc/data/raw/An-Introduction-to-Philosophy.pdf', 'page': 133}\n",
      "941 :  page_content='There is an obvious concern to address at this point. We o ften don ’t know what the long -run \\nconsequences o f our actions will be, and even in the short run we are often uncertain about just \\nhow much pleasure and pain will be caused for the various parties affected . So, we might not be \\nable to calculate the utilitie s of alternative actions to figure out which act ion will have the highest' metadata={'source': '/Users/pinaki/Library/CloudStorage/OneDrive-Personal/Documents/Analytics_Projects/POCs_Python/Llm_w_rag_poc/llm_w_rag_poc/data/raw/An-Introduction-to-Philosophy.pdf', 'page': 134}\n",
      "951 :  page_content='just these two rules.  \\nBut here is a rule that would have even higher utility than the rule that doctors should never harm \\ntheir patients: doctors should never harm their patients excep t when doing so would maximize \\nutility. Now suppose t hat doctors ordinarily refrain from harming their patients and as a result \\npeople trust their doctors. But in Bob ’s case, his doctor realizes that she can maximize utility by' metadata={'source': '/Users/pinaki/Library/CloudStorage/OneDrive-Personal/Documents/Analytics_Projects/POCs_Python/Llm_w_rag_poc/llm_w_rag_poc/data/raw/An-Introduction-to-Philosophy.pdf', 'page': 135}\n",
      "961 :  page_content='138 \\n opposed to being a slave to our desires or inclinations. So free wil l, in the  sense that is associated \\nwith moral responsibility, doesn ’t mean being free to do as you please without consequence. \\nRather, freedom comes with moral responsibility for the intentions we act on. Having an \\nautonomous good will with the capacity to  act from  moral duty is central to being a person in the \\nmoral sense and it is the basis, the metaphysical grounding, for an ethics of respect for persons.' metadata={'source': '/Users/pinaki/Library/CloudStorage/OneDrive-Personal/Documents/Analytics_Projects/POCs_Python/Llm_w_rag_poc/llm_w_rag_poc/data/raw/An-Introduction-to-Philosophy.pdf', 'page': 137}\n",
      "971 :  page_content='according to its consequences, but according to the maxim which includes the act and the \\npurpose inte nded . What gets evaluated as morally right or wrong is the maxim, not just the act.  \\nAccording to the formula of the universal law, what makes an action morally acceptable is that \\nits maxim is universalizable. That is, morally permissible action is action that is motivated by an \\nintention that we can rationally  will that others act on similarly. A morally prohibited action is' metadata={'source': '/Users/pinaki/Library/CloudStorage/OneDrive-Personal/Documents/Analytics_Projects/POCs_Python/Llm_w_rag_poc/llm_w_rag_poc/data/raw/An-Introduction-to-Philosophy.pdf', 'page': 138}\n",
      "981 :  page_content='group. On this view goodness is “out there” in the realm of things to be discovered. It needn ’t be \\n“way out there,” like goodness in some cosmic sense or goodness for the universe at large. We ’re \\njust interested in goodness for human beings and this mi ght have lots to do with our nature as \\npersons. So let ’s set aside the relativist ’s claim that goodness is decided by us and ask what else \\ngoodness for humans might be. In doing so, we take goodness to be an appropriate object for' metadata={'source': '/Users/pinaki/Library/CloudStorage/OneDrive-Personal/Documents/Analytics_Projects/POCs_Python/Llm_w_rag_poc/llm_w_rag_poc/data/raw/An-Introduction-to-Philosophy.pdf', 'page': 139}\n",
      "991 :  page_content='142 \\n It might be that some cultures value respect for persons over happiness while others value \\nhappiness at the expense of re spect for persons and others yet value community or kinship \\nrelations more tha n happiness or respect for individual persons. That is, we might find conflicts \\nin the most basic or fundamental moral values upheld by diverse cultures. How can ethical \\ntheory a ccount for this without begging questions against one set of cultural values o r another?' metadata={'source': '/Users/pinaki/Library/CloudStorage/OneDrive-Personal/Documents/Analytics_Projects/POCs_Python/Llm_w_rag_poc/llm_w_rag_poc/data/raw/An-Introduction-to-Philosophy.pdf', 'page': 141}\n",
      "1001 :  page_content='good  judgment. But  however we settle these issues, pluralism about fundamental ethical value \\nopens some new avenues for explaining a broader range of cultural divers ity without legitimizing \\nthe sorts of obvious injustice moral relativism would condone . \\nThere are many issues to address yet in exploring Ethical Pluralism  and I  won’t get to them all \\nhere. But some loom too large to ignore. In particular, you might be worried that over the past' metadata={'source': '/Users/pinaki/Library/CloudStorage/OneDrive-Personal/Documents/Analytics_Projects/POCs_Python/Llm_w_rag_poc/llm_w_rag_poc/data/raw/An-Introduction-to-Philosophy.pdf', 'page': 142}\n",
      "1011 :  page_content='appeal of oneness here is that it allows us to completely replace human judgment with rational \\ncalculation. We have  yet to outgrow this int ellectual lust for reduction. Many of us still want to \\nsee the sciences as in some way reducible to just one, physics. But p hilosophers of science have \\nbeen raising a steady stream of questions about our reductionistic inclinations over the past few \\ndecades. And even physics itself appears to be stuck with a kind of force pluralism. The' metadata={'source': '/Users/pinaki/Library/CloudStorage/OneDrive-Personal/Documents/Analytics_Projects/POCs_Python/Llm_w_rag_poc/llm_w_rag_poc/data/raw/An-Introduction-to-Philosophy.pdf', 'page': 143}\n",
      "1021 :  page_content='Though Athens was a democracy, Plato was no fan of democracy. In his dialogues he has \\nSocrates repeatedly lampooning democracy as rule by the least qualified.  This is because the \\nleaders i n a democracy are not chosen by the wise, but by the majority, and the majority is often \\neasily manipulated by bad actors. As a result, Plato endorsed a kind of elitism, the rule by experts \\nor “philosopher kings.” His idea of justice is one where the vario us functions of society are' metadata={'source': '/Users/pinaki/Library/CloudStorage/OneDrive-Personal/Documents/Analytics_Projects/POCs_Python/Llm_w_rag_poc/llm_w_rag_poc/data/raw/An-Introduction-to-Philosophy.pdf', 'page': 145}\n",
      "1031 :  page_content='addresses this issue in his Second Treatise on Government  which can be found here:  EMT - John \\nLocke (earlymoderntexts.com)  \\nLocke’s politic al theory starts with thinking about what morality demands in the absence of \\ngovernment . According to Locke, in the state of nature (or in the absence  of government) people \\nexist in a state of perfect freedom. This partly means that people  are free to purs ue their own' metadata={'source': '/Users/pinaki/Library/CloudStorage/OneDrive-Personal/Documents/Analytics_Projects/POCs_Python/Llm_w_rag_poc/llm_w_rag_poc/data/raw/An-Introduction-to-Philosophy.pdf', 'page': 146}\n",
      "1041 :  page_content='political right are rarely fans of such limitations.  \\nA further  limitation on property  rights according to  Locke holds that the accumulation of private \\nproperty constitutes no injustice to others “at least wh ere there is enough and as good, left in the \\ncommons for others.” Locke takes the natural world and all the res ources in it to be a \\ncommonwealth. That is, the earth, the waters, skies , and the various systems they contain are' metadata={'source': '/Users/pinaki/Library/CloudStorage/OneDrive-Personal/Documents/Analytics_Projects/POCs_Python/Llm_w_rag_poc/llm_w_rag_poc/data/raw/An-Introduction-to-Philosophy.pdf', 'page': 148}\n",
      "1051 :  page_content='rights  in his entitlement conception of social justice. Nozick’s Anarchy , State and Utopia  gives \\nthe strongest argument around for the view we now call Libertarianism. On Nozick’s view, any \\ndistribution of property and wealth, no matter how unequal, is socially just so long as it was \\narrived at by just means. Acquiring wealth by one’s labor and  then building on that through fair \\ntrades (those not involving coercion or deception) will be fair.' metadata={'source': '/Users/pinaki/Library/CloudStorage/OneDrive-Personal/Documents/Analytics_Projects/POCs_Python/Llm_w_rag_poc/llm_w_rag_poc/data/raw/An-Introduction-to-Philosophy.pdf', 'page': 149}\n",
      "1061 :  page_content='many  cases, notably including climate change, strategies for expanding the commons aren ’t \\nsufficient for avoiding a tragedy of the commons. Given this, we have  only one route to avoidin g \\na tragedy of the commons , and that is regulating the u se of the commons.  \\nThere  are more and less obtrusive way to regulate  or reduce  use of the commons. Requiring \\npollution  controls on cars has been a very unobtrusive way to regulate pollution and avoid an air' metadata={'source': '/Users/pinaki/Library/CloudStorage/OneDrive-Personal/Documents/Analytics_Projects/POCs_Python/Llm_w_rag_poc/llm_w_rag_poc/data/raw/An-Introduction-to-Philosophy.pdf', 'page': 150}\n",
      "1071 :  page_content='productive activity is c arried out in the context of a co mplex fabric of social structures and \\ninterrelations buoyed by a substantial technological infrastructure. Enjoying the fruits of my' metadata={'source': '/Users/pinaki/Library/CloudStorage/OneDrive-Personal/Documents/Analytics_Projects/POCs_Python/Llm_w_rag_poc/llm_w_rag_poc/data/raw/An-Introduction-to-Philosophy.pdf', 'page': 151}\n",
      "1081 :  page_content='the sort of guy that just isn’t going to find a date for the prom. In addition, he has a fairly \\nexpensive lifetime medical condition, he’s type 1 diabetic. What would be the fair way  for Jones  \\nto divvy up his modest fortune among his three sons?  \\nJones can’t j ust pull a clear answer out of thin air, but he is clever and has a friend who does \\nresearch in neuroscience that can help. His friend has developed a drug for highly selective' metadata={'source': '/Users/pinaki/Library/CloudStorage/OneDrive-Personal/Documents/Analytics_Projects/POCs_Python/Llm_w_rag_poc/llm_w_rag_poc/data/raw/An-Introduction-to-Philosophy.pdf', 'page': 153}\n",
      "1091 :  page_content='get a d ecent night’s sleep. In the interest of maximizing equal liberty for all, we would be \\njustified in restricting people from activities that would interfere with the liberty of others. This \\nhas many familiar applications. Neighborhood zoning regulations are one example. A good deal \\nenvironmental regulation illustrates this idea. Maximizing liberty  for all equally requires that we \\nrestrict businesses from being free to pollute where doing so would adversely affect the health of' metadata={'source': '/Users/pinaki/Library/CloudStorage/OneDrive-Personal/Documents/Analytics_Projects/POCs_Python/Llm_w_rag_poc/llm_w_rag_poc/data/raw/An-Introduction-to-Philosophy.pdf', 'page': 154}\n",
      "1101 :  page_content='concerned, though, wit h one of his key economic ins ights, one that is often touted as making the \\ncase for free markets. First, we need to describe a scenario. Let’s imagine that we are all part of a \\nsmall low -tech economy where one of our technologies is making matches. The sta ndard method \\nfor making match es to light fires is to sliver off individual sticks with a knife and dip them one \\nby one in the solutions that make them ignite easily when struck. In this economy we have a free' metadata={'source': '/Users/pinaki/Library/CloudStorage/OneDrive-Personal/Documents/Analytics_Projects/POCs_Python/Llm_w_rag_poc/llm_w_rag_poc/data/raw/An-Introduction-to-Philosophy.pdf', 'page': 155}\n",
      "1111 :  page_content='158 \\n society  to the point where they are no better off than those who are largely unproductive will not \\nmeet the Rawlsian ideal under the difference principle. If people are not rewarded for hard work \\nand innovation, then it’s liable not to happen and everyone suffers as a result. Too much taxation \\nof the well-off will be unjust on Rawl s’ view precisely because it doesn’t work out to benefit of \\nleast well off (or anyone else).  Rawls would deem communism and socialism as unjust under the' metadata={'source': '/Users/pinaki/Library/CloudStorage/OneDrive-Personal/Documents/Analytics_Projects/POCs_Python/Llm_w_rag_poc/llm_w_rag_poc/data/raw/An-Introduction-to-Philosophy.pdf', 'page': 157}\n",
      "1121 :  page_content='the classic criticisms of liberal political thought is that it fails to provide shared ideals that can be \\nthe basis of a sense of shared identity , purpose  and community. Liberty alone is thin gru el for \\nthose seeking a sense of meaning and purpose  in life  in the public or political sphere . And \\nprioritizing liberty as a political value requires maintaining neutrality  on a broad range of other' metadata={'source': '/Users/pinaki/Library/CloudStorage/OneDrive-Personal/Documents/Analytics_Projects/POCs_Python/Llm_w_rag_poc/llm_w_rag_poc/data/raw/An-Introduction-to-Philosophy.pdf', 'page': 158}\n"
     ]
    }
   ],
   "source": [
    "#A document about quantum computing\n",
    "document_path = path_data + \"raw/An-Introduction-to-Philosophy.pdf\"  \n",
    "# document_path = \"quantum-mckinsey.pdf\"\n",
    "\n",
    "#we set default chunk size of 500 characters with an overlap of 20 characters\n",
    "def split_doc(document_path, chunk_size=500, chunk_overlap=20):\n",
    "    loader = dl.PyPDFLoader(document_path)\n",
    "    document = loader.load()\n",
    "    text_splitter = ts.RecursiveCharacterTextSplitter(chunk_size=chunk_size, chunk_overlap=chunk_overlap)\n",
    "    document_splitted = text_splitter.split_documents(documents=document)\n",
    "    return document_splitted\n",
    "\n",
    "#Split the document and print the different chunks\n",
    "document_splitted = split_doc(document_path)\n",
    "for idx, doc in enumerate(document_splitted):\n",
    "  if idx%10 == 0:\n",
    "    print(idx+1, ': ', doc)"
   ]
  },
  {
   "cell_type": "markdown",
   "metadata": {},
   "source": [
    "## Save the embedding model"
   ]
  },
  {
   "cell_type": "code",
   "execution_count": 5,
   "metadata": {},
   "outputs": [],
   "source": [
    "from sentence_transformers import SentenceTransformer\n",
    "\n",
    "path_model_st = path_models + 'sentence-transformers'\n",
    "\n",
    "model = SentenceTransformer(\"sentence-transformers/all-MiniLM-L6-v2\")\n",
    "# model = SentenceTransformer(\"sentence-transformers/all-mpnet-base-v2\")\n",
    "#Save the model locally\n",
    "model.save(path_model_st)\n",
    "#release memory (RAM + cache)\n",
    "del model\n",
    "torch.cuda.empty_cache()"
   ]
  },
  {
   "cell_type": "markdown",
   "metadata": {},
   "source": [
    "## Load the model from local directory"
   ]
  },
  {
   "cell_type": "code",
   "execution_count": 6,
   "metadata": {},
   "outputs": [
    {
     "name": "stdout",
     "output_type": "stream",
     "text": [
      "Using mps device\n"
     ]
    }
   ],
   "source": [
    "# Get cpu, gpu or mps device for training.\n",
    "device = (\n",
    "    \"cuda\"\n",
    "    if torch.cuda.is_available()\n",
    "    else \"mps\"\n",
    "    if torch.backends.mps.is_available()\n",
    "    else \"cpu\"\n",
    ")\n",
    "print(f\"Using {device} device\")"
   ]
  },
  {
   "cell_type": "code",
   "execution_count": 7,
   "metadata": {},
   "outputs": [],
   "source": [
    "def load_embedding_model(model_path):\n",
    "    model_kwargs = {'device': device}\n",
    "    # model_kwargs = {'device': 'cuda:0'}\n",
    "    encode_kwargs = {'normalize_embeddings': False}\n",
    "    embedding_model_instance = embeddings.HuggingFaceEmbeddings(\n",
    "        #Foldername where the model was stored\n",
    "        model_name=model_path,\n",
    "        model_kwargs=model_kwargs,\n",
    "        encode_kwargs=encode_kwargs\n",
    "    )\n",
    "    return embedding_model_instance\n",
    "\n",
    "#Instantiate the embedding model\n",
    "embedding_model_instance = load_embedding_model(path_model_st)"
   ]
  },
  {
   "cell_type": "code",
   "execution_count": 8,
   "metadata": {},
   "outputs": [
    {
     "name": "stdout",
     "output_type": "stream",
     "text": [
      "Torch version: 2.2.1\n",
      "Is CUDA enabled? False\n",
      "Is MPS enabled? True\n"
     ]
    }
   ],
   "source": [
    "print(\"Torch version:\",torch.__version__)\n",
    "print(\"Is CUDA enabled?\",torch.cuda.is_available())\n",
    "print(\"Is MPS enabled?\", torch.backends.mps.is_available())"
   ]
  },
  {
   "cell_type": "markdown",
   "metadata": {},
   "source": [
    "## Creating Vector DB & storing the chunk embeddings"
   ]
  },
  {
   "cell_type": "code",
   "execution_count": 9,
   "metadata": {},
   "outputs": [],
   "source": [
    "path_data_db = path_data + 'interim/db.index'\n",
    "\n",
    "def create_db(document_splitted, embedding_model_instance):\n",
    "\n",
    "    model_vectorstore = vs.FAISS\n",
    "    db=None\n",
    "    try:\n",
    "        content = []\n",
    "        metadata = []\n",
    "        for d in document_splitted:\n",
    "            content.append(d.page_content)\n",
    "            metadata.append({'source': d.metadata})\n",
    "        db=model_vectorstore.from_texts(content, embedding_model_instance, metadata)\n",
    "    except Exception as error:\n",
    "        print(error)\n",
    "    return db\n",
    "\n",
    "db = create_db(document_splitted, embedding_model_instance)\n",
    "#store the db locally for future use\n",
    "db.save_local(path_data_db)"
   ]
  },
  {
   "cell_type": "markdown",
   "metadata": {},
   "source": [
    "## Load the large language model locally"
   ]
  },
  {
   "cell_type": "code",
   "execution_count": 10,
   "metadata": {},
   "outputs": [
    {
     "data": {
      "application/vnd.jupyter.widget-view+json": {
       "model_id": "a7950b4ab05b493e8e809c34fcfb0468",
       "version_major": 2,
       "version_minor": 0
      },
      "text/plain": [
       "tokenizer_config.json:   0%|          | 0.00/1.43k [00:00<?, ?B/s]"
      ]
     },
     "metadata": {},
     "output_type": "display_data"
    },
    {
     "data": {
      "application/vnd.jupyter.widget-view+json": {
       "model_id": "cf380918b5164362bb4f10b3c11f2a6f",
       "version_major": 2,
       "version_minor": 0
      },
      "text/plain": [
       "tokenizer.model:   0%|          | 0.00/493k [00:00<?, ?B/s]"
      ]
     },
     "metadata": {},
     "output_type": "display_data"
    },
    {
     "data": {
      "application/vnd.jupyter.widget-view+json": {
       "model_id": "37ff1afd920b4556a9bf4f1fb9c98ccd",
       "version_major": 2,
       "version_minor": 0
      },
      "text/plain": [
       "tokenizer.json:   0%|          | 0.00/1.80M [00:00<?, ?B/s]"
      ]
     },
     "metadata": {},
     "output_type": "display_data"
    },
    {
     "data": {
      "application/vnd.jupyter.widget-view+json": {
       "model_id": "2f6f3e44a44a4e00bffae3df66b0781a",
       "version_major": 2,
       "version_minor": 0
      },
      "text/plain": [
       "added_tokens.json:   0%|          | 0.00/42.0 [00:00<?, ?B/s]"
      ]
     },
     "metadata": {},
     "output_type": "display_data"
    },
    {
     "data": {
      "application/vnd.jupyter.widget-view+json": {
       "model_id": "e93ab9e2590c407b9ec35c9739d594ba",
       "version_major": 2,
       "version_minor": 0
      },
      "text/plain": [
       "special_tokens_map.json:   0%|          | 0.00/168 [00:00<?, ?B/s]"
      ]
     },
     "metadata": {},
     "output_type": "display_data"
    },
    {
     "data": {
      "application/vnd.jupyter.widget-view+json": {
       "model_id": "90269be36c5b40f6872cb262558f90d8",
       "version_major": 2,
       "version_minor": 0
      },
      "text/plain": [
       "config.json:   0%|          | 0.00/638 [00:00<?, ?B/s]"
      ]
     },
     "metadata": {},
     "output_type": "display_data"
    },
    {
     "data": {
      "application/vnd.jupyter.widget-view+json": {
       "model_id": "b2932c278b934ec0a84892a8acc63fd2",
       "version_major": 2,
       "version_minor": 0
      },
      "text/plain": [
       "model.safetensors.index.json:   0%|          | 0.00/23.9k [00:00<?, ?B/s]"
      ]
     },
     "metadata": {},
     "output_type": "display_data"
    },
    {
     "data": {
      "application/vnd.jupyter.widget-view+json": {
       "model_id": "948832f2899c492f88acb54726426c02",
       "version_major": 2,
       "version_minor": 0
      },
      "text/plain": [
       "Downloading shards:   0%|          | 0/8 [00:00<?, ?it/s]"
      ]
     },
     "metadata": {},
     "output_type": "display_data"
    },
    {
     "data": {
      "application/vnd.jupyter.widget-view+json": {
       "model_id": "19f97c214fca4e8097d2f76d4ac9549f",
       "version_major": 2,
       "version_minor": 0
      },
      "text/plain": [
       "model-00001-of-00008.safetensors:   0%|          | 0.00/1.89G [00:00<?, ?B/s]"
      ]
     },
     "metadata": {},
     "output_type": "display_data"
    },
    {
     "data": {
      "application/vnd.jupyter.widget-view+json": {
       "model_id": "a85d885f4cb649dba6071b6fc96da8ce",
       "version_major": 2,
       "version_minor": 0
      },
      "text/plain": [
       "model-00002-of-00008.safetensors:   0%|          | 0.00/1.95G [00:00<?, ?B/s]"
      ]
     },
     "metadata": {},
     "output_type": "display_data"
    },
    {
     "data": {
      "application/vnd.jupyter.widget-view+json": {
       "model_id": "7ae304eeab774d66b36300d91284d811",
       "version_major": 2,
       "version_minor": 0
      },
      "text/plain": [
       "model-00003-of-00008.safetensors:   0%|          | 0.00/1.98G [00:00<?, ?B/s]"
      ]
     },
     "metadata": {},
     "output_type": "display_data"
    },
    {
     "data": {
      "application/vnd.jupyter.widget-view+json": {
       "model_id": "8750b49fb1804217b480bd44321fe4f0",
       "version_major": 2,
       "version_minor": 0
      },
      "text/plain": [
       "model-00004-of-00008.safetensors:   0%|          | 0.00/1.95G [00:00<?, ?B/s]"
      ]
     },
     "metadata": {},
     "output_type": "display_data"
    },
    {
     "data": {
      "application/vnd.jupyter.widget-view+json": {
       "model_id": "5025d883dbbc4c8392b26a78fa953dd3",
       "version_major": 2,
       "version_minor": 0
      },
      "text/plain": [
       "model-00005-of-00008.safetensors:   0%|          | 0.00/1.98G [00:00<?, ?B/s]"
      ]
     },
     "metadata": {},
     "output_type": "display_data"
    },
    {
     "data": {
      "application/vnd.jupyter.widget-view+json": {
       "model_id": "114cf47315ce4f46b0d8e43652c58efa",
       "version_major": 2,
       "version_minor": 0
      },
      "text/plain": [
       "model-00006-of-00008.safetensors:   0%|          | 0.00/1.95G [00:00<?, ?B/s]"
      ]
     },
     "metadata": {},
     "output_type": "display_data"
    },
    {
     "data": {
      "application/vnd.jupyter.widget-view+json": {
       "model_id": "697e55bea45748da968c469462d65069",
       "version_major": 2,
       "version_minor": 0
      },
      "text/plain": [
       "model-00007-of-00008.safetensors:   0%|          | 0.00/1.98G [00:00<?, ?B/s]"
      ]
     },
     "metadata": {},
     "output_type": "display_data"
    },
    {
     "data": {
      "application/vnd.jupyter.widget-view+json": {
       "model_id": "fb0b6752e83340bbac1eb15d62f01f69",
       "version_major": 2,
       "version_minor": 0
      },
      "text/plain": [
       "model-00008-of-00008.safetensors:   0%|          | 0.00/816M [00:00<?, ?B/s]"
      ]
     },
     "metadata": {},
     "output_type": "display_data"
    },
    {
     "data": {
      "application/vnd.jupyter.widget-view+json": {
       "model_id": "921f44526ce941509b2fc69368feb1c4",
       "version_major": 2,
       "version_minor": 0
      },
      "text/plain": [
       "Loading checkpoint shards:   0%|          | 0/8 [00:00<?, ?it/s]"
      ]
     },
     "metadata": {},
     "output_type": "display_data"
    },
    {
     "data": {
      "application/vnd.jupyter.widget-view+json": {
       "model_id": "66b49a015c534fbca5eb58ec20b985c0",
       "version_major": 2,
       "version_minor": 0
      },
      "text/plain": [
       "generation_config.json:   0%|          | 0.00/111 [00:00<?, ?B/s]"
      ]
     },
     "metadata": {},
     "output_type": "display_data"
    },
    {
     "data": {
      "text/plain": [
       "('/Users/pinaki/Library/CloudStorage/OneDrive-Personal/Documents/Analytics_Projects/POCs_Python/Llm_w_rag_poc/llm_w_rag_poc/models/zephyr-7b-beta-tokenizer/tokenizer_config.json',\n",
       " '/Users/pinaki/Library/CloudStorage/OneDrive-Personal/Documents/Analytics_Projects/POCs_Python/Llm_w_rag_poc/llm_w_rag_poc/models/zephyr-7b-beta-tokenizer/special_tokens_map.json',\n",
       " '/Users/pinaki/Library/CloudStorage/OneDrive-Personal/Documents/Analytics_Projects/POCs_Python/Llm_w_rag_poc/llm_w_rag_poc/models/zephyr-7b-beta-tokenizer/tokenizer.json')"
      ]
     },
     "execution_count": 10,
     "metadata": {},
     "output_type": "execute_result"
    }
   ],
   "source": [
    "path_model_llm = path_models + 'zephyr-7b-beta-model'\n",
    "path_model_tokenizer = path_models + 'zephyr-7b-beta-tokenizer'\n",
    "\n",
    "tokenizer = AutoTokenizer.from_pretrained(\"HuggingFaceH4/zephyr-7b-beta\")\n",
    "model = AutoModelForCausalLM.from_pretrained(\"HuggingFaceH4/zephyr-7b-beta\", low_cpu_mem_usage=True, torch_dtype=torch.float16)\n",
    "model.save_pretrained(path_model_llm, max_shard_size=\"1000MB\")\n",
    "tokenizer.save_pretrained(path_model_tokenizer)\n",
    "del model\n",
    "del tokenizer\n",
    "# torch.backends.mps.\n",
    "torch.cuda.empty_cache()"
   ]
  },
  {
   "cell_type": "markdown",
   "metadata": {},
   "source": [
    "## load model from local"
   ]
  },
  {
   "cell_type": "code",
   "execution_count": 11,
   "metadata": {},
   "outputs": [
    {
     "data": {
      "application/vnd.jupyter.widget-view+json": {
       "model_id": "d339ab32cd054f39a8966502d035a668",
       "version_major": 2,
       "version_minor": 0
      },
      "text/plain": [
       "Loading checkpoint shards:   0%|          | 0/15 [00:00<?, ?it/s]"
      ]
     },
     "metadata": {},
     "output_type": "display_data"
    }
   ],
   "source": [
    "tokenizer = AutoTokenizer.from_pretrained(path_model_tokenizer)\n",
    "model = AutoModelForCausalLM.from_pretrained(path_model_llm, low_cpu_mem_usage=True, torch_dtype=torch.float16)\n",
    "pipe = pipeline(task=\"text-generation\", model=model,tokenizer=tokenizer, device=device, max_new_tokens=1000)\n",
    "llm=HuggingFacePipeline(pipeline=pipe, model_kwargs={'temperature':0})"
   ]
  },
  {
   "cell_type": "markdown",
   "metadata": {},
   "source": [
    "## Retrieving pieces of context"
   ]
  },
  {
   "cell_type": "code",
   "execution_count": 12,
   "metadata": {},
   "outputs": [],
   "source": [
    "query = \"Give a summary of what philosophy is in 100 words.\"\n",
    "retriever = db.as_retriever(search_type=\"similarity_score_threshold\", search_kwargs={\"k\": 6, 'score_threshold': 0.01})\n",
    "retrieved_docs = retriever.get_relevant_documents(query)"
   ]
  },
  {
   "cell_type": "markdown",
   "metadata": {},
   "source": [
    "## Defining a prompt template"
   ]
  },
  {
   "cell_type": "code",
   "execution_count": 13,
   "metadata": {},
   "outputs": [],
   "source": [
    "template = \"\"\"Use the following pieces of context to answer the question at the end.\n",
    "If you don't know the answer, just say that you don't know, don't try to make up an answer.\n",
    "{context}\n",
    "Question: {question}\n",
    "Helpful Answer:\"\"\"\n",
    "rag_prompt_custom = PromptTemplate.from_template(template)"
   ]
  },
  {
   "cell_type": "markdown",
   "metadata": {},
   "source": [
    "## Create chains to perform RAGs"
   ]
  },
  {
   "cell_type": "code",
   "execution_count": 14,
   "metadata": {},
   "outputs": [],
   "source": [
    "def format_docs(docs):\n",
    "    return \"\\n\\n\".join(doc.page_content for doc in docs)\n",
    "\n",
    "#First chain to query the LLM\n",
    "rag_chain_from_docs = (\n",
    "    {\n",
    "        \"context\": lambda input: format_docs(input[\"documents\"]),\n",
    "        \"question\": itemgetter(\"question\"),\n",
    "    }\n",
    "    | rag_prompt_custom\n",
    "    | llm\n",
    "    | StrOutputParser()\n",
    ")\n",
    "\n",
    "#Second chain to postprocess the answer\n",
    "rag_chain_with_source = RunnableParallel(\n",
    "    {\"documents\": retriever, \"question\": RunnablePassthrough()}\n",
    ") | {\n",
    "    \"documents\": lambda input: [doc.metadata for doc in input[\"documents\"]],\n",
    "    \"answer\": rag_chain_from_docs,\n",
    "}"
   ]
  },
  {
   "cell_type": "code",
   "execution_count": 15,
   "metadata": {},
   "outputs": [
    {
     "name": "stderr",
     "output_type": "stream",
     "text": [
      "Setting `pad_token_id` to `eos_token_id`:2 for open-end generation.\n"
     ]
    },
    {
     "name": "stdout",
     "output_type": "stream",
     "text": [
      " Philosophy is the pursuit of rational inquiry into fundamental questions about the nature of reality, knowledge, values, and existence. It involves critical thinking, logical reasoning, and systematic analysis of ideas and arguments. Philosophy is distinct from science, which focuses on empirical observation and experimentation, and from religion, which is based on faith and revelation. While some philosophers argue that certain areas of philosophy, such as metaphysics and ethics, are meaningless or unverifiable, others maintain that they are essential components of a well-rounded education and a healthy society. Ultimately, the nature and value of philosophy are subject to ongoing debate and interpretation.\n",
      "Sources [{'source': {'source': '/Users/pinaki/Library/CloudStorage/OneDrive-Personal/Documents/Analytics_Projects/POCs_Python/Llm_w_rag_poc/llm_w_rag_poc/data/raw/An-Introduction-to-Philosophy.pdf', 'page': 9}}, {'source': {'source': '/Users/pinaki/Library/CloudStorage/OneDrive-Personal/Documents/Analytics_Projects/POCs_Python/Llm_w_rag_poc/llm_w_rag_poc/data/raw/An-Introduction-to-Philosophy.pdf', 'page': 4}}, {'source': {'source': '/Users/pinaki/Library/CloudStorage/OneDrive-Personal/Documents/Analytics_Projects/POCs_Python/Llm_w_rag_poc/llm_w_rag_poc/data/raw/An-Introduction-to-Philosophy.pdf', 'page': 81}}, {'source': {'source': '/Users/pinaki/Library/CloudStorage/OneDrive-Personal/Documents/Analytics_Projects/POCs_Python/Llm_w_rag_poc/llm_w_rag_poc/data/raw/An-Introduction-to-Philosophy.pdf', 'page': 1}}, {'source': {'source': '/Users/pinaki/Library/CloudStorage/OneDrive-Personal/Documents/Analytics_Projects/POCs_Python/Llm_w_rag_poc/llm_w_rag_poc/data/raw/An-Introduction-to-Philosophy.pdf', 'page': 3}}, {'source': {'source': '/Users/pinaki/Library/CloudStorage/OneDrive-Personal/Documents/Analytics_Projects/POCs_Python/Llm_w_rag_poc/llm_w_rag_poc/data/raw/An-Introduction-to-Philosophy.pdf', 'page': 81}}]\n",
      "Response time: 7310.721361160278\n"
     ]
    }
   ],
   "source": [
    "t0=time.time()\n",
    "resp = rag_chain_with_source.invoke(query)\n",
    "if len(resp['documents'])==0:\n",
    "  print('No documents found')\n",
    "else:\n",
    "  stripped_resp = re.sub(r\"\\n+$\", \" \", resp['answer'])\n",
    "  print(stripped_resp)\n",
    "  print('Sources',resp['documents'])\n",
    "  print('Response time:', time.time()-t0)"
   ]
  },
  {
   "cell_type": "code",
   "execution_count": 18,
   "metadata": {},
   "outputs": [
    {
     "name": "stdout",
     "output_type": "stream",
     "text": [
      " Philosophy is the pursuit of rational inquiry into fundamental questions about the nature of reality, knowledge, values, and existence. It involves critical thinking, logical reasoning, and systematic analysis of ideas and arguments. Philosophy is distinct from science, which focuses on empirical observation and experimentation, and from religion, which is based on faith and revelation. While some philosophers argue that certain areas of philosophy, such as metaphysics and ethics, are meaningless or unverifiable, others maintain that they are essential components of a well-rounded education and a healthy society. Ultimately, the nature and value of philosophy are subject to ongoing debate and interpretation.\n"
     ]
    }
   ],
   "source": [
    "print(resp['answer'])"
   ]
  },
  {
   "cell_type": "code",
   "execution_count": null,
   "metadata": {},
   "outputs": [],
   "source": []
  }
 ],
 "metadata": {
  "kernelspec": {
   "display_name": "llamdaindex",
   "language": "python",
   "name": "python3"
  },
  "language_info": {
   "codemirror_mode": {
    "name": "ipython",
    "version": 3
   },
   "file_extension": ".py",
   "mimetype": "text/x-python",
   "name": "python",
   "nbconvert_exporter": "python",
   "pygments_lexer": "ipython3",
   "version": "3.11.7"
  }
 },
 "nbformat": 4,
 "nbformat_minor": 2
}
